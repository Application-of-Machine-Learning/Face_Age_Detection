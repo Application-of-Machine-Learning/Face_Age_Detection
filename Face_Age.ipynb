{
  "nbformat": 4,
  "nbformat_minor": 0,
  "metadata": {
    "colab": {
      "name": "Face_Age.ipynb",
      "private_outputs": true,
      "provenance": [],
      "collapsed_sections": [],
      "authorship_tag": "ABX9TyMZo+PKxf9Y0ay48ajocOkr",
      "include_colab_link": true
    },
    "kernelspec": {
      "name": "python3",
      "display_name": "Python 3"
    },
    "language_info": {
      "name": "python"
    },
    "accelerator": "GPU"
  },
  "cells": [
    {
      "cell_type": "markdown",
      "metadata": {
        "id": "view-in-github",
        "colab_type": "text"
      },
      "source": [
        "<a href=\"https://colab.research.google.com/github/Application-of-Machine-Learning/Face_Age_Detection/blob/main/Face_Age.ipynb\" target=\"_parent\"><img src=\"https://colab.research.google.com/assets/colab-badge.svg\" alt=\"Open In Colab\"/></a>"
      ]
    },
    {
      "cell_type": "markdown",
      "metadata": {
        "id": "sbKvDloelxcY"
      },
      "source": [
        "//Step 1: access git reposotory for datasets"
      ]
    },
    {
      "cell_type": "code",
      "metadata": {
        "id": "ewWcynrJVQx2"
      },
      "source": [
        "!git clone https://github.com/Application-of-Machine-Learning/Face_Age_Detection.git\n",
        "%cd Face_Age_Detection/"
      ],
      "execution_count": null,
      "outputs": []
    },
    {
      "cell_type": "markdown",
      "metadata": {
        "id": "eB_funzUlwoc"
      },
      "source": [
        "//Step two: import libraries. "
      ]
    },
    {
      "cell_type": "code",
      "metadata": {
        "id": "PdSodn3Ulvqa"
      },
      "source": [
        "import cv2 as cv\n",
        "import numpy as np\n",
        "import numpy\n",
        "import glob as glob\n",
        "import matplotlib.pyplot as plt\n",
        "import matplotlib.image as mpimg\n",
        "from sklearn.model_selection import train_test_split\n",
        "from google.colab.patches import cv2_imshow\n",
        "from IPython.display import Image\n",
        "from PIL import Image\n",
        "import os\n",
        "\n",
        "\n",
        "image_path = '/content/Face_Age_Detection/Images/face_age/'\n"
      ],
      "execution_count": null,
      "outputs": []
    },
    {
      "cell_type": "markdown",
      "metadata": {
        "id": "MWj9DlTWop2q"
      },
      "source": [
        "//Step three: image processing\n"
      ]
    },
    {
      "cell_type": "code",
      "metadata": {
        "id": "U8BNnw5GooWW"
      },
      "source": [
        "#Create image array\n",
        "images = []; \n",
        "#def get_all_img(src, sub, ext):\n",
        "\n",
        "subfolders = np.array(os.listdir(image_path))\n",
        "print(np.sort(subfolders))\n",
        "print(\"subfolders - shape\")\n",
        "print(subfolders.shape)\n",
        "#images = np.array(os.listdir(image_path + (subfolders[2:10]) )) ;\n",
        "\n",
        "for root, dirs, files in os.walk(image_path):\n",
        "  for file in files:\n",
        "        if file.endswith(\".png\"):\n",
        "            images.append(os.path.join(root, file))\n",
        "            img_arr = np.array(images)\n",
        "            \n",
        "      \n",
        "\n",
        "\n"
      ],
      "execution_count": null,
      "outputs": []
    },
    {
      "cell_type": "code",
      "metadata": {
        "id": "aMBduj0uoQY6"
      },
      "source": [
        "print(img_arr.size)\n",
        "print(img_arr[1])"
      ],
      "execution_count": null,
      "outputs": []
    },
    {
      "cell_type": "code",
      "metadata": {
        "id": "KET6BCHqoY1I"
      },
      "source": [
        "img_list = img_arr.tolist()\n",
        "print(img_list)"
      ],
      "execution_count": null,
      "outputs": []
    },
    {
      "cell_type": "code",
      "metadata": {
        "id": "CGxoA0xC4PEK"
      },
      "source": [
        "train_arr = np.array(img_list[0:7800])\n",
        "\n",
        "test_arr = np.array(img_list[7801:img_arr.size])\n"
      ],
      "execution_count": null,
      "outputs": []
    },
    {
      "cell_type": "code",
      "metadata": {
        "id": "v0yOpU2Ms_qv"
      },
      "source": [
        "train = train_arr.tolist()\n",
        "len(train)\n",
        "\n",
        "img = cv.imread(train[1])\n",
        "plt.imshow(img)"
      ],
      "execution_count": null,
      "outputs": []
    },
    {
      "cell_type": "code",
      "metadata": {
        "id": "Zt-QgDJqezIK"
      },
      "source": [
        "imagePath = train[392]\n",
        "cascPath = \"/content/Face_Age_Detection/modelNweight/haarcascades/haarcascade_frontalface_default.xml\"\n",
        "\n",
        "# Create the haar cascade\n",
        "faceCascade = cv.CascadeClassifier(cascPath)\n",
        "\n",
        "# Read the image\n",
        "image = cv.imread(imagePath)\n",
        "gray = cv.cvtColor(image, cv.COLOR_BGR2GRAY)\n",
        "\n",
        "# Detect faces in the image\n",
        "faces = faceCascade.detectMultiScale(\n",
        "    gray,\n",
        "    scaleFactor=1.1,\n",
        "    minNeighbors=5,\n",
        "    minSize=(30, 30)\n",
        ")\n",
        "\n",
        "print(\"Found {0} faces!\".format(len(faces)))\n",
        "\n",
        "# Draw a rectangle around the faces\n",
        "for (x, y, w, h) in faces:\n",
        "    cv2.rectangle(image, (x, y), (x+w, y+h), (0, 255, 0), 2)\n",
        "\n",
        "cv2_imshow(image)\n",
        "cv2.waitKey(0)\n"
      ],
      "execution_count": null,
      "outputs": []
    },
    {
      "cell_type": "code",
      "metadata": {
        "id": "EtzCgSWtho76"
      },
      "source": [
        "!pip install mtcnn\n",
        "!pip install tensorflow\n",
        "from mtcnn.mtcnn import MTCNN\n",
        "\n",
        "img = cv.imread(train[40])\n",
        "# convert to RGB, if needed\n",
        "image = image.convert('RGB')\n",
        "# convert to array\n",
        "pixels = np.asarray(image)\n",
        "\n",
        "detector = MTCNN()\n",
        "\n",
        "detections = detector.detect_faces(img)\n",
        "\n",
        "for face in faces: \n",
        "  print(face)\n",
        "\n",
        "  "
      ],
      "execution_count": null,
      "outputs": []
    },
    {
      "cell_type": "code",
      "metadata": {
        "id": "e0_uyEBLsyNI"
      },
      "source": [
        "def facebox(img): \n",
        "    faces = detector.detect_faces(img)\n",
        "    boundary = faces[0]['box']\n",
        "    keypoints = faces[0]['keypoints']\n",
        "\n",
        "    cv.rectangle(img,(boundary[0], boundary[1]), (boundary[0]+boundary[2], boundary[1]+boundary[3]), (0,155,255),2)\n",
        "    cv.circle(img,(keypoints['left_eye']),2,(0,155,255),2)\n",
        "    cv.circle(img,(keypoints['right_eye']),2,(0,155,255),2)\n",
        "    cv.circle(img,(keypoints['nose']),2,(0,155,255),2)\n",
        "    return img"
      ],
      "execution_count": null,
      "outputs": []
    },
    {
      "cell_type": "code",
      "metadata": {
        "id": "XBEuolqxs9s1"
      },
      "source": [
        "detected_face = facebox(img)\n",
        "cv2_imshow(detected_face)"
      ],
      "execution_count": null,
      "outputs": []
    }
  ]
}